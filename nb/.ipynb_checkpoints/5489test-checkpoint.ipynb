{
 "cells": [
  {
   "cell_type": "code",
   "execution_count": 13,
   "id": "6641b3fb-c833-4b4c-9dd6-e64bbca95f86",
   "metadata": {},
   "outputs": [],
   "source": [
    "from bs4 import BeautifulSoup\n",
    "from selenium import webdriver\n",
    "import urllib.parse as parse"
   ]
  },
  {
   "cell_type": "code",
   "execution_count": 11,
   "id": "e537b247-832c-4d58-99f2-de1431e05be3",
   "metadata": {},
   "outputs": [],
   "source": [
    "url = \"https://e5489.jr-odekake.net/e5489/cspc/CBDayTimeArriveSelRsvMyDiaPC?&inputDepartStName=%8B%9E%93s&inputArriveStName=%89%BA%8A%D6&inputDate=20250110&inputHour=21& &inputType=0&inputUniqueDepartSt=1&inputUniqueArriveSt=1&inputSearchType=2&inputSpecificBriefTrainKana1=%B7%D6%B3%B8%BC000&inputTransferDepartStName1=%8B%9E%93s&inputTransferArriveStName1=%89%BA%8A%D6&inputTransferDepartStUnique1=1&inputTransferArriveStUnique1=1&inputTransferTrainType1=0001&inputSpecificTrainType1=2\""
   ]
  },
  {
   "cell_type": "code",
   "execution_count": null,
   "id": "c28fd4dc-c1f6-49a7-b8b2-c6083b362f3e",
   "metadata": {},
   "outputs": [],
   "source": [
    "def make_5489_url():\n",
    "    depSta = \"京都\"\n",
    "    arrSta = \"下関\"\n",
    "    inputDate = \"20250110\"\n",
    "    inputHour = \"21\"\n",
    "    inputMinute = \"00\"\n",
    "    inputType= \"0\"\n",
    "    inputUniqueDepartSt = \"1\"\n",
    "    inputUniqueArriveSt = \"1\"\n",
    "    inputSearchType = \"2\"\n",
    "    inputSpecificBriefTrainKahna1 = 'ｷﾖｳｸｼ000'\n",
    "    inputTransferDepartStName1 = \"京都\"\n",
    "    inputTransferArriveStName1 = \"下関\"\n",
    "    inputTransferDepartStUnique1 = \"1\"\n",
    "    inputTransferArriveStUnique1 = \"1\"\n",
    "    inputTransferTrainType1=0001\n",
    "    inputSpecificTrainType1=2\n",
    "    ````````````````````"
   ]
  },
  {
   "cell_type": "code",
   "execution_count": 23,
   "id": "fe1805b2-4de8-4882-b826-4610feed8539",
   "metadata": {
    "editable": true,
    "slideshow": {
     "slide_type": ""
    },
    "tags": []
   },
   "outputs": [
    {
     "data": {
      "text/plain": [
       "'%B7%D6%B3%B8%BC000'"
      ]
     },
     "execution_count": 23,
     "metadata": {},
     "output_type": "execute_result"
    }
   ],
   "source": [
    "parse.quote(\"ｷﾖｳｸｼ000\", encoding=\"shift-jis\")"
   ]
  },
  {
   "cell_type": "code",
   "execution_count": 21,
   "id": "8d0c8ded-4ce3-48e4-b537-5e42f8a88cb2",
   "metadata": {},
   "outputs": [
    {
     "data": {
      "text/plain": [
       "'ｷﾖｳｸｼ000'"
      ]
     },
     "execution_count": 21,
     "metadata": {},
     "output_type": "execute_result"
    }
   ],
   "source": [
    "parse.unquote(\"%B7%D6%B3%B8%BC000\", encoding=\"shift-jis\")"
   ]
  },
  {
   "cell_type": "code",
   "execution_count": 7,
   "id": "90b29a50-2e7e-4ad8-8c42-8b31edbf8098",
   "metadata": {},
   "outputs": [],
   "source": [
    "options = webdriver.ChromeOptions()"
   ]
  },
  {
   "cell_type": "code",
   "execution_count": 9,
   "id": "e5e165a9-3ae6-495b-96f1-65c302000c6f",
   "metadata": {},
   "outputs": [],
   "source": [
    "driver = webdriver.Chrome(options=options)"
   ]
  },
  {
   "cell_type": "code",
   "execution_count": 12,
   "id": "6766c607-e82f-4d86-a328-92f7c90214df",
   "metadata": {},
   "outputs": [],
   "source": [
    "driver.get(url)"
   ]
  },
  {
   "cell_type": "code",
   "execution_count": null,
   "id": "7b4d827f-43f1-423e-936a-0b2fdf6e3bcc",
   "metadata": {},
   "outputs": [],
   "source": []
  }
 ],
 "metadata": {
  "kernelspec": {
   "display_name": "Python 3 (ipykernel)",
   "language": "python",
   "name": "python3"
  },
  "language_info": {
   "codemirror_mode": {
    "name": "ipython",
    "version": 3
   },
   "file_extension": ".py",
   "mimetype": "text/x-python",
   "name": "python",
   "nbconvert_exporter": "python",
   "pygments_lexer": "ipython3",
   "version": "3.12.5"
  }
 },
 "nbformat": 4,
 "nbformat_minor": 5
}
