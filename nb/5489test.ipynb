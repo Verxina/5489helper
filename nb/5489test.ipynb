{
 "cells": [
  {
   "cell_type": "code",
   "execution_count": 165,
   "id": "6641b3fb-c833-4b4c-9dd6-e64bbca95f86",
   "metadata": {},
   "outputs": [],
   "source": [
    "from bs4 import BeautifulSoup\n",
    "from selenium import webdriver\n",
    "from selenium.webdriver.common.by import By\n",
    "import urllib.parse as parse\n",
    "from selenium.webdriver.support.ui import Select"
   ]
  },
  {
   "cell_type": "code",
   "execution_count": 2,
   "id": "e537b247-832c-4d58-99f2-de1431e05be3",
   "metadata": {},
   "outputs": [],
   "source": [
    "url = \"https://e5489.jr-odekake.net/e5489/cspc/CBDayTimeArriveSelRsvMyDiaPC?&inputDepartStName=%8B%9E%93s&inputArriveStName=%89%BA%8A%D6&inputDate=20250110&inputHour=21& &inputType=0&inputUniqueDepartSt=1&inputUniqueArriveSt=1&inputSearchType=2&inputSpecificBriefTrainKana1=%B7%D6%B3%B8%BC000&inputTransferDepartStName1=%8B%9E%93s&inputTransferArriveStName1=%89%BA%8A%D6&inputTransferDepartStUnique1=1&inputTransferArriveStUnique1=1&inputTransferTrainType1=0001&inputSpecificTrainType1=2\""
   ]
  },
  {
   "cell_type": "code",
   "execution_count": 101,
   "id": "c28fd4dc-c1f6-49a7-b8b2-c6083b362f3e",
   "metadata": {},
   "outputs": [],
   "source": [
    "def quote(qstr: str):\n",
    "    return parse.quote(qstr, encoding=\"shift-jis\")\n",
    "\n",
    "def make_5489_url(\n",
    "    depSta = \"京都\",\n",
    "    arrSta = \"下関\",\n",
    "    inputDate = \"20250110\",\n",
    "    inputHour = \"21\",\n",
    "    inputMinute = \"00\",\n",
    "    inputType= \"0\",\n",
    "    inputUniqueDepartSt = \"1\",\n",
    "    inputUniqueArriveSt = \"1\",\n",
    "    inputSearchType = \"2\",\n",
    "    inputSpecificBriefTrainKana1 = 'ｷﾖｳｸｼ',\n",
    "    inputTransferDepartStName1 = \"京都\",\n",
    "    inputTransferArriveStName1 = \"下関\",\n",
    "    inputTransferDepartStUnique1 = \"1\",\n",
    "    inputTransferArriveStUnique1 = \"1\",\n",
    "    inputTransferTrainType1 = \"0001\",\n",
    "    inputSpecificTrainType1 = \"2\",\n",
    "):\n",
    "    base_url = \"https://e5489.jr-odekake.net/e5489/cspc/CBDayTimeArriveSelRsvMyDiaPC?\"\n",
    "    str_attrs = [\n",
    "        f\"&inputDepartStName={quote(depSta)}\",\n",
    "        f\"&inputArriveStName={quote(arrSta)}\",\n",
    "        f\"&inputDate={inputDate}\",\n",
    "        f\"&inputHour={inputHour}\",\n",
    "        f\"&inputMinute={inputMinute}\",\n",
    "        f\"&inputType={inputType}\",\n",
    "        f\"&inputUniqueDepartSt={inputUniqueDepartSt}\",        \n",
    "        f\"&inputUniqueArriveSt={inputUniqueArriveSt}\",\n",
    "        f\"&inputSearchType={inputSearchType}\",\n",
    "        f\"&inputSpecificBriefTrainKana1={quote(inputSpecificBriefTrainKana1.ljust(5, \" \") + \"000\")}\",\n",
    "        f\"&inputTransferDepartStName1={quote(inputTransferDepartStName1)}\",\n",
    "        f\"&inputTransferArriveStName1={quote(inputTransferArriveStName1)}\",\n",
    "        f\"&inputTransferDepartStUnique1={inputTransferDepartStUnique1}\",\n",
    "        f\"&inputTransferArriveStUnique1={inputTransferArriveStUnique1}\",\n",
    "        f\"&inputTransferTrainType1={inputTransferTrainType1}\",\n",
    "        f\"&inputSpecificTrainType1={inputSpecificTrainType1}\",        \n",
    "    ]\n",
    "    return base_url + ''.join(str_attrs)"
   ]
  },
  {
   "cell_type": "code",
   "execution_count": 214,
   "id": "17d9c033-9da9-478e-8386-9eb46707d2eb",
   "metadata": {},
   "outputs": [],
   "source": [
    "url = make_5489_url(depSta = \"高松（香川県）\",\n",
    "                arrSta = \"東京\",\n",
    "                inputDate = \"20250110\",\n",
    "                inputHour = \"10\",\n",
    "                inputMinute = \"00\",\n",
    "                inputType= \"0\",\n",
    "                inputUniqueDepartSt = \"1\",\n",
    "                inputUniqueArriveSt = \"1\",\n",
    "                inputSearchType = \"2\",\n",
    "                inputSpecificBriefTrainKana1 = 'ｻｾﾄｼ',\n",
    "                inputTransferDepartStName1 = \"高松（香川県）\",\n",
    "                inputTransferArriveStName1 = \"東京\",\n",
    "                inputTransferDepartStUnique1 = \"1\",\n",
    "                inputTransferArriveStUnique1 = \"1\",\n",
    "                inputTransferTrainType1 = \"0001\",\n",
    "                inputSpecificTrainType1 = \"2\",\n",
    "             )"
   ]
  },
  {
   "cell_type": "code",
   "execution_count": 215,
   "id": "20dc8cbd-db32-453a-9a3e-5f4906035f32",
   "metadata": {},
   "outputs": [
    {
     "data": {
      "text/plain": [
       "'https://e5489.jr-odekake.net/e5489/cspc/CBDayTimeArriveSelRsvMyDiaPC?&inputDepartStName=%8D%82%8F%BC%81i%8D%81%90%EC%8C%A7%81j&inputArriveStName=%93%8C%8B%9E&inputDate=20250110&inputHour=10&inputMinute=00&inputType=0&inputUniqueDepartSt=1&inputUniqueArriveSt=1&inputSearchType=2&inputSpecificBriefTrainKana1=%BB%BE%C4%BC%20000&inputTransferDepartStName1=%8D%82%8F%BC%81i%8D%81%90%EC%8C%A7%81j&inputTransferArriveStName1=%93%8C%8B%9E&inputTransferDepartStUnique1=1&inputTransferArriveStUnique1=1&inputTransferTrainType1=0001&inputSpecificTrainType1=2'"
      ]
     },
     "execution_count": 215,
     "metadata": {},
     "output_type": "execute_result"
    }
   ],
   "source": [
    "url"
   ]
  },
  {
   "cell_type": "code",
   "execution_count": 111,
   "id": "fe1805b2-4de8-4882-b826-4610feed8539",
   "metadata": {
    "editable": true,
    "slideshow": {
     "slide_type": ""
    },
    "tags": []
   },
   "outputs": [
    {
     "data": {
      "text/plain": [
       "'%D7%B8%CA%D8%CF000'"
      ]
     },
     "execution_count": 111,
     "metadata": {},
     "output_type": "execute_result"
    }
   ],
   "source": [
    "quote(\"ﾗｸﾊﾘﾏ\".ljust(5, \" \") + \"000\")"
   ]
  },
  {
   "cell_type": "code",
   "execution_count": 96,
   "id": "8d0c8ded-4ce3-48e4-b537-5e42f8a88cb2",
   "metadata": {},
   "outputs": [
    {
     "data": {
      "text/plain": [
       "'ｷﾖｳｸｼ000'"
      ]
     },
     "execution_count": 96,
     "metadata": {},
     "output_type": "execute_result"
    }
   ],
   "source": [
    "parse.unquote(\"%B7%D6%B3%B8%BC000\", encoding=\"shift-jis\")"
   ]
  },
  {
   "cell_type": "code",
   "execution_count": 191,
   "id": "90b29a50-2e7e-4ad8-8c42-8b31edbf8098",
   "metadata": {},
   "outputs": [],
   "source": [
    "options = webdriver.ChromeOptions()"
   ]
  },
  {
   "cell_type": "code",
   "execution_count": 192,
   "id": "e5e165a9-3ae6-495b-96f1-65c302000c6f",
   "metadata": {},
   "outputs": [],
   "source": [
    "driver = webdriver.Chrome(options=options)"
   ]
  },
  {
   "cell_type": "code",
   "execution_count": 193,
   "id": "6766c607-e82f-4d86-a328-92f7c90214df",
   "metadata": {},
   "outputs": [],
   "source": [
    "driver.get(url)"
   ]
  },
  {
   "cell_type": "code",
   "execution_count": 194,
   "id": "7b4d827f-43f1-423e-936a-0b2fdf6e3bcc",
   "metadata": {},
   "outputs": [
    {
     "data": {
      "text/plain": [
       "'https://e5489.jr-odekake.net/e5489/cspc/CBDayTimeArriveSelRsvMyDiaPC?&inputDepartStName=%8B%9E%93s&inputArriveStName=%95P%98H&inputDate=20250110&inputHour=10&inputMinute=00&inputType=0&inputUniqueDepartSt=1&inputUniqueArriveSt=1&inputSearchType=2&inputSpecificBriefTrainKana1=%D7%B8%CA%D8%CF000&inputTransferDepartStName1=%8B%9E%93s&inputTransferArriveStName1=%95P%98H&inputTransferDepartStUnique1=1&inputTransferArriveStUnique1=1&inputTransferTrainType1=0001&inputSpecificTrainType1=2'"
      ]
     },
     "execution_count": 194,
     "metadata": {},
     "output_type": "execute_result"
    }
   ],
   "source": [
    "url"
   ]
  },
  {
   "cell_type": "code",
   "execution_count": 142,
   "id": "3091f5d6-4d80-4f7f-9e2e-cc5f39ac9112",
   "metadata": {},
   "outputs": [],
   "source": [
    "def keiro_setsubi(driver):\n",
    "    element = driver.find_element(By.XPATH, \"//span[.//img[@alt='空席あり']]\")\n",
    "    element.click()\n",
    "    element = driver.find_element(By.CLASS_NAME, \"decide-button\")\n",
    "    element.click()"
   ]
  },
  {
   "cell_type": "code",
   "execution_count": 195,
   "id": "c3bb3cad-bac9-4713-bca8-1b744185e83f",
   "metadata": {},
   "outputs": [],
   "source": [
    "keiro_setsubi(driver)"
   ]
  },
  {
   "cell_type": "code",
   "execution_count": 196,
   "id": "d9acfa19-092a-47f9-a6c5-9cd94f8a8e17",
   "metadata": {},
   "outputs": [],
   "source": [
    "def kippu_select(driver):\n",
    "    element = driver.find_element(By.CLASS_NAME, \"decide-button\")\n",
    "    element.click()"
   ]
  },
  {
   "cell_type": "code",
   "execution_count": 197,
   "id": "3ebc41ab-2595-4086-85a1-bef0c2937d63",
   "metadata": {},
   "outputs": [],
   "source": [
    "kippu_select(driver)"
   ]
  },
  {
   "cell_type": "code",
   "execution_count": 210,
   "id": "9858c058-024b-41f7-ab34-c404a35385e1",
   "metadata": {},
   "outputs": [],
   "source": [
    "def login(driver):\n",
    "    driver.find_element(By.ID, \"name1\").send_keys(\"デンツウ\")\n",
    "    driver.find_element(By.ID, \"name2\").send_keys(\"タロウ\")\n",
    "    driver.find_element(By.ID, \"tel1\").send_keys(\"070\")\n",
    "    driver.find_element(By.ID, \"tel1conf\").send_keys(\"070\")\n",
    "    driver.find_element(By.ID, \"tel2\").send_keys(\"1005\")\n",
    "    driver.find_element(By.ID, \"tel2conf\").send_keys(\"1005\")\n",
    "    driver.find_element(By.ID, \"tel3\").send_keys(\"5898\")\n",
    "    driver.find_element(By.ID, \"tel3conf\").send_keys(\"5898\")\n",
    "    driver.find_element(By.ID, \"email1\").send_keys(\"bugp765@gmail.com\")\n",
    "    driver.find_element(By.ID, \"email2\").send_keys(\"bugp765@gmail.com\")\n",
    "    driver.find_element(By.CLASS_NAME, \"check\").click()\n",
    "    driver.find_element(By.CLASS_NAME, \"decide-button\").click()"
   ]
  },
  {
   "cell_type": "code",
   "execution_count": 198,
   "id": "4be3d431-db85-41e6-a8a5-15d251ca4d5c",
   "metadata": {},
   "outputs": [],
   "source": [
    "login(driver)"
   ]
  },
  {
   "cell_type": "code",
   "execution_count": 161,
   "id": "342de0fc-2d65-4cf9-80f3-d0d0390972a4",
   "metadata": {},
   "outputs": [],
   "source": [
    "def kiyaku(driver):\n",
    "    driver.find_element(By.CLASS_NAME, \"check\").click()\n",
    "    driver.find_element(By.CLASS_NAME, \"decide-button\").click()"
   ]
  },
  {
   "cell_type": "code",
   "execution_count": 199,
   "id": "461dee28-2d6c-40be-89dd-552af585e5a2",
   "metadata": {},
   "outputs": [],
   "source": [
    "kiyaku(driver)"
   ]
  },
  {
   "cell_type": "code",
   "execution_count": 173,
   "id": "0c223a74-daa5-42dc-9a8c-7c1cfd2a8f23",
   "metadata": {},
   "outputs": [],
   "source": [
    "def zaseki(driver, skip_zaseki=False):\n",
    "    Select(driver.find_element(By.ID, \"number-of-adult-passengers\")).select_by_value(\"4\")\n",
    "    driver.find_element(By.XPATH, \"//span[text()='離れた席でもよい']\").click()\n",
    "    driver.find_element(By.XPATH, \"//span[text()='乗車券なし']\").click()\n",
    "    driver.find_element(By.CLASS_NAME, \"decide-button\").click()"
   ]
  },
  {
   "cell_type": "code",
   "execution_count": 200,
   "id": "05f87edc-abbf-4d8a-9e8e-2573fe5d3753",
   "metadata": {},
   "outputs": [],
   "source": [
    "zaseki(driver)"
   ]
  },
  {
   "cell_type": "code",
   "execution_count": 167,
   "id": "d0c7fe3a-73cf-4715-8aea-623756cab97d",
   "metadata": {},
   "outputs": [],
   "source": [
    "driver.find_element(By.XPATH, \"//span[text()='離れた席でもよい']\").click()"
   ]
  },
  {
   "cell_type": "code",
   "execution_count": 168,
   "id": "8ef2790b-bf08-4819-8697-f16a9ad05729",
   "metadata": {},
   "outputs": [],
   "source": [
    "driver.find_element(By.XPATH, \"//span[text()='乗車券なし']\").click()"
   ]
  },
  {
   "cell_type": "code",
   "execution_count": 169,
   "id": "85a2ea80-bdeb-4541-bfc2-8ec2be4de89a",
   "metadata": {},
   "outputs": [],
   "source": [
    "driver.find_element(By.CLASS_NAME, \"decide-button\").click()"
   ]
  },
  {
   "cell_type": "code",
   "execution_count": 183,
   "id": "9db8b685-5c62-4baf-9007-87f3713883ee",
   "metadata": {},
   "outputs": [],
   "source": [
    "def yoyaku(driver):\n",
    "    driver.find_element(By.XPATH, \"//div[@data-id='select2']\").click()\n",
    "    driver.find_element(By.XPATH, \"//input[@type='radio' and @name='settlemthdKbn' and @value='4']\").click()\n",
    "    driver.find_element(By.XPATH, \"//span[text()='予約する']\").click()"
   ]
  },
  {
   "cell_type": "code",
   "execution_count": 237,
   "id": "63368d71-b8c9-48e6-8ddc-a0fe1edf3abd",
   "metadata": {},
   "outputs": [],
   "source": [
    "def wait_1000():\n",
    "    t_delta = datetime.timedelta(hours=9)  # 9時間\n",
    "    JST = datetime.timezone(t_delta, 'JST')\n",
    "    while True:\n",
    "        dt = datetime.datetime.now(JST)\n",
    "        if dt.hour == 10 and dt.minute == 0:\n",
    "            break\n",
    "        else:\n",
    "            time.sleep(0.1)\n",
    "\n",
    "def setting(\n",
    "    depSta = \"京都\",\n",
    "    arrSta = \"下関\",\n",
    "    inputDate = \"20250110\",\n",
    "    inputHour = \"21\",\n",
    "    inputMinute = \"00\",\n",
    "    inputType= \"0\",\n",
    "    inputUniqueDepartSt = \"1\",\n",
    "    inputUniqueArriveSt = \"1\",\n",
    "    inputSearchType = \"2\",\n",
    "    inputSpecificBriefTrainKana1 = 'ｷﾖｳｸｼ',\n",
    "    inputTransferDepartStName1 = \"京都\",\n",
    "    inputTransferArriveStName1 = \"下関\",\n",
    "    inputTransferDepartStUnique1 = \"1\",\n",
    "    inputTransferArriveStUnique1 = \"1\",\n",
    "    inputTransferTrainType1 = \"0001\",\n",
    "    inputSpecificTrainType1 = \"2\",\n",
    "    wait = False\n",
    "):\n",
    "    url = make_5489_url(depSta,\n",
    "                arrSta,\n",
    "                inputDate,\n",
    "                inputHour,\n",
    "                inputMinute,\n",
    "                inputType,\n",
    "                inputUniqueDepartSt,\n",
    "                inputUniqueArriveSt,\n",
    "                inputSearchType,\n",
    "                inputSpecificBriefTrainKana1,\n",
    "                inputTransferDepartStName1,\n",
    "                inputTransferArriveStName1,\n",
    "                inputTransferDepartStUnique1,\n",
    "                inputTransferArriveStUnique1,\n",
    "                inputTransferTrainType1,\n",
    "                inputSpecificTrainType1,\n",
    "             )\n",
    "    options = webdriver.ChromeOptions()\n",
    "    driver = webdriver.Chrome(options=options)\n",
    "    if wait:\n",
    "        wait_1000()\n",
    "    driver.get(url)\n",
    "    return driver"
   ]
  },
  {
   "cell_type": "code",
   "execution_count": 239,
   "id": "fd4dcb6f-e51e-4fc5-a836-544fcf29b320",
   "metadata": {},
   "outputs": [],
   "source": [
    "def yoyaku_operate():\n",
    "    driver = setting(depSta = \"京都\",\n",
    "                arrSta = \"姫路\",\n",
    "                inputDate = \"20250111\",\n",
    "                inputHour = \"10\",\n",
    "                inputMinute = \"00\",\n",
    "                inputType= \"0\",\n",
    "                inputUniqueDepartSt = \"1\",\n",
    "                inputUniqueArriveSt = \"1\",\n",
    "                inputSearchType = \"2\",\n",
    "                inputSpecificBriefTrainKana1 = 'ﾉｿﾞﾐ',\n",
    "                inputTransferDepartStName1 = \"京都\",\n",
    "                inputTransferArriveStName1 = \"姫路\",\n",
    "                inputTransferDepartStUnique1 = \"1\",\n",
    "                inputTransferArriveStUnique1 = \"1\",\n",
    "                inputTransferTrainType1 = \"0001\",\n",
    "                inputSpecificTrainType1 = \"2\",\n",
    "                wait=True,\n",
    "             )\n",
    "    keiro_setsubi(driver)\n",
    "    kippu_select(driver)\n",
    "    login(driver)\n",
    "    kiyaku(driver)\n",
    "    zaseki(driver)\n",
    "    yoyaku(driver)\n",
    "    print(datetime.datetime.now(JST))"
   ]
  },
  {
   "cell_type": "code",
   "execution_count": 238,
   "id": "20ce1dce-c422-466b-83af-6c98f523895b",
   "metadata": {
    "scrolled": true
   },
   "outputs": [],
   "source": [
    "yoyaku_operate()"
   ]
  },
  {
   "cell_type": "code",
   "execution_count": 229,
   "id": "d16b2763-11e5-411c-b7fb-e9dbdda857f9",
   "metadata": {},
   "outputs": [
    {
     "name": "stdout",
     "output_type": "stream",
     "text": [
      "<class 'int'>\n"
     ]
    }
   ],
   "source": [
    "import datetime\n",
    "import time\n",
    "t_delta = datetime.timedelta(hours=9)  # 9時間\n",
    "JST = datetime.timezone(t_delta, 'JST')  # UTCから9時間差の「JST」タイムゾーン\n",
    "dt = datetime.datetime.now(JST)  # タイムゾーン付きでローカルな日付と時刻を取得\n",
    "print(type(dt.hour))"
   ]
  },
  {
   "cell_type": "code",
   "execution_count": 231,
   "id": "136983b1-1483-44bf-8bd4-4cf67c815757",
   "metadata": {},
   "outputs": [
    {
     "name": "stdout",
     "output_type": "stream",
     "text": [
      "2024-12-11 01:35:00.091306+09:00\n"
     ]
    }
   ],
   "source": [
    "while True:\n",
    "    dt = datetime.datetime.now(JST)\n",
    "    if dt.hour == 1 and dt.minute == 35:\n",
    "        break\n",
    "    else:\n",
    "        time.sleep(0.1)\n",
    "\n",
    "dt = datetime.datetime.now(JST)\n",
    "print(dt)"
   ]
  },
  {
   "cell_type": "code",
   "execution_count": null,
   "id": "3eedeb04-a618-4029-8dae-3050140a9ba1",
   "metadata": {},
   "outputs": [],
   "source": []
  }
 ],
 "metadata": {
  "kernelspec": {
   "display_name": "Python 3 (ipykernel)",
   "language": "python",
   "name": "python3"
  },
  "language_info": {
   "codemirror_mode": {
    "name": "ipython",
    "version": 3
   },
   "file_extension": ".py",
   "mimetype": "text/x-python",
   "name": "python",
   "nbconvert_exporter": "python",
   "pygments_lexer": "ipython3",
   "version": "3.12.5"
  }
 },
 "nbformat": 4,
 "nbformat_minor": 5
}
